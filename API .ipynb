{
 "cells": [
  {
   "cell_type": "markdown",
   "id": "b882879c",
   "metadata": {},
   "source": [
    "# 1. Usando javascript o Python y la API (INEGI) realiza la extracción de datos y el manejo de datos necesario para generar un dashboard en la plataforma de tu preferencia resumiendo los puntos principales de la población incluyendo comentarios relevantes"
   ]
  },
  {
   "cell_type": "code",
   "execution_count": 2,
   "id": "2a6f16ec",
   "metadata": {},
   "outputs": [],
   "source": [
    "import requests\n",
    "import pandas as pd"
   ]
  },
  {
   "cell_type": "markdown",
   "id": "8ed4e249",
   "metadata": {},
   "source": [
    "### Población de Colima"
   ]
  },
  {
   "cell_type": "code",
   "execution_count": 3,
   "id": "3dc743c3",
   "metadata": {},
   "outputs": [],
   "source": [
    "token = \"5554b048-f926-f2d4-7ec2-372b06e35b22\"\n",
    "url = f\"https://www.inegi.org.mx/app/api/indicadores/desarrolladores/jsonxml/INDICATOR/1002000001/es/07000006/false/BISE/2.0/{token}?type=json\"\n",
    "response = requests.get(url)\n",
    "data = response.json()"
   ]
  },
  {
   "cell_type": "code",
   "execution_count": 5,
   "id": "40b7227a",
   "metadata": {},
   "outputs": [],
   "source": [
    "series = data['Series'][0]['OBSERVATIONS']\n",
    "df = pd.DataFrame(series)[['OBS_VALUE']].iloc[-6:].drop(13)\n",
    "df['OBS_VALUE'] = pd.to_numeric(df['OBS_VALUE'])\n",
    "df.columns= ['Estado Colima']\n",
    "df.index = ['1995','2000','2005','2010','2020']"
   ]
  },
  {
   "cell_type": "code",
   "execution_count": 197,
   "id": "04d7f80c",
   "metadata": {},
   "outputs": [
    {
     "data": {
      "text/html": [
       "<div>\n",
       "<style scoped>\n",
       "    .dataframe tbody tr th:only-of-type {\n",
       "        vertical-align: middle;\n",
       "    }\n",
       "\n",
       "    .dataframe tbody tr th {\n",
       "        vertical-align: top;\n",
       "    }\n",
       "\n",
       "    .dataframe thead th {\n",
       "        text-align: right;\n",
       "    }\n",
       "</style>\n",
       "<table border=\"1\" class=\"dataframe\">\n",
       "  <thead>\n",
       "    <tr style=\"text-align: right;\">\n",
       "      <th></th>\n",
       "      <th>Estado Colima</th>\n",
       "    </tr>\n",
       "  </thead>\n",
       "  <tbody>\n",
       "    <tr>\n",
       "      <th>1995</th>\n",
       "      <td>488028.0</td>\n",
       "    </tr>\n",
       "    <tr>\n",
       "      <th>2000</th>\n",
       "      <td>542627.0</td>\n",
       "    </tr>\n",
       "    <tr>\n",
       "      <th>2005</th>\n",
       "      <td>567996.0</td>\n",
       "    </tr>\n",
       "    <tr>\n",
       "      <th>2010</th>\n",
       "      <td>650555.0</td>\n",
       "    </tr>\n",
       "    <tr>\n",
       "      <th>2020</th>\n",
       "      <td>731391.0</td>\n",
       "    </tr>\n",
       "  </tbody>\n",
       "</table>\n",
       "</div>"
      ],
      "text/plain": [
       "      Estado Colima\n",
       "1995       488028.0\n",
       "2000       542627.0\n",
       "2005       567996.0\n",
       "2010       650555.0\n",
       "2020       731391.0"
      ]
     },
     "execution_count": 197,
     "metadata": {},
     "output_type": "execute_result"
    }
   ],
   "source": [
    "df"
   ]
  },
  {
   "cell_type": "markdown",
   "id": "c553fc09",
   "metadata": {},
   "source": [
    "### Población por entidad"
   ]
  },
  {
   "cell_type": "code",
   "execution_count": 177,
   "id": "b236b495",
   "metadata": {},
   "outputs": [],
   "source": [
    "muni = ['0'+str(n) for n in range(1,10)] + ['10']\n",
    "muni_name = ['Armería','Colima','Comala','Coquimatlán','Cuauhtémoc',\n",
    "             'Ixtlahuacán','Manzanillo','Minatitlán','Tecomán','Villa de Álvarez']"
   ]
  },
  {
   "cell_type": "code",
   "execution_count": 178,
   "id": "83487eee",
   "metadata": {},
   "outputs": [],
   "source": [
    "df_pob_ent = pd.DataFrame()\n",
    "for i in muni:\n",
    "    url = f\"https://www.inegi.org.mx/app/api/indicadores/desarrolladores/jsonxml/INDICATOR/1002000001/es/0700000600{i}/false/BISE/2.0/{token}?type=json\"\n",
    "    response = requests.get(url)\n",
    "    data = response.json()\n",
    "    series = data['Series'][0]['OBSERVATIONS']\n",
    "    df = pd.DataFrame(series,index=['1995','2000','2005','2010','2020'])[['OBS_VALUE']]\n",
    "    df['OBS_VALUE'] = pd.to_numeric(df['OBS_VALUE'])\n",
    "    df_pob_ent = pd.concat([df_pob_ent,df],axis=1)\n",
    "df_pob_ent.columns = muni_name"
   ]
  },
  {
   "cell_type": "code",
   "execution_count": 179,
   "id": "03c711dd",
   "metadata": {},
   "outputs": [
    {
     "data": {
      "text/html": [
       "<div>\n",
       "<style scoped>\n",
       "    .dataframe tbody tr th:only-of-type {\n",
       "        vertical-align: middle;\n",
       "    }\n",
       "\n",
       "    .dataframe tbody tr th {\n",
       "        vertical-align: top;\n",
       "    }\n",
       "\n",
       "    .dataframe thead th {\n",
       "        text-align: right;\n",
       "    }\n",
       "</style>\n",
       "<table border=\"1\" class=\"dataframe\">\n",
       "  <thead>\n",
       "    <tr style=\"text-align: right;\">\n",
       "      <th></th>\n",
       "      <th>Armeria</th>\n",
       "      <th>Colima</th>\n",
       "      <th>Comala</th>\n",
       "      <th>Coquimatlan</th>\n",
       "      <th>Cuauhtemoc</th>\n",
       "      <th>Ixtlahuacan</th>\n",
       "      <th>Manzanillo</th>\n",
       "      <th>Minatitlán</th>\n",
       "      <th>Tecoman</th>\n",
       "      <th>Villa de Álvarez</th>\n",
       "    </tr>\n",
       "  </thead>\n",
       "  <tbody>\n",
       "    <tr>\n",
       "      <th>1995</th>\n",
       "      <td>28015.0</td>\n",
       "      <td>120781.0</td>\n",
       "      <td>17601.0</td>\n",
       "      <td>16939.0</td>\n",
       "      <td>25462.0</td>\n",
       "      <td>4989.0</td>\n",
       "      <td>108584.0</td>\n",
       "      <td>8321.0</td>\n",
       "      <td>91036.0</td>\n",
       "      <td>66300.0</td>\n",
       "    </tr>\n",
       "    <tr>\n",
       "      <th>2000</th>\n",
       "      <td>28574.0</td>\n",
       "      <td>129958.0</td>\n",
       "      <td>19384.0</td>\n",
       "      <td>18756.0</td>\n",
       "      <td>26771.0</td>\n",
       "      <td>5478.0</td>\n",
       "      <td>125143.0</td>\n",
       "      <td>8466.0</td>\n",
       "      <td>99289.0</td>\n",
       "      <td>80808.0</td>\n",
       "    </tr>\n",
       "    <tr>\n",
       "      <th>2005</th>\n",
       "      <td>24939.0</td>\n",
       "      <td>132273.0</td>\n",
       "      <td>19495.0</td>\n",
       "      <td>17363.0</td>\n",
       "      <td>25576.0</td>\n",
       "      <td>4759.0</td>\n",
       "      <td>137842.0</td>\n",
       "      <td>7478.0</td>\n",
       "      <td>98150.0</td>\n",
       "      <td>100121.0</td>\n",
       "    </tr>\n",
       "    <tr>\n",
       "      <th>2010</th>\n",
       "      <td>28695.0</td>\n",
       "      <td>146904.0</td>\n",
       "      <td>20888.0</td>\n",
       "      <td>19385.0</td>\n",
       "      <td>27107.0</td>\n",
       "      <td>5300.0</td>\n",
       "      <td>161420.0</td>\n",
       "      <td>8174.0</td>\n",
       "      <td>112726.0</td>\n",
       "      <td>119956.0</td>\n",
       "    </tr>\n",
       "    <tr>\n",
       "      <th>2020</th>\n",
       "      <td>27626.0</td>\n",
       "      <td>157048.0</td>\n",
       "      <td>21661.0</td>\n",
       "      <td>20837.0</td>\n",
       "      <td>31267.0</td>\n",
       "      <td>5623.0</td>\n",
       "      <td>191031.0</td>\n",
       "      <td>10231.0</td>\n",
       "      <td>116305.0</td>\n",
       "      <td>149762.0</td>\n",
       "    </tr>\n",
       "  </tbody>\n",
       "</table>\n",
       "</div>"
      ],
      "text/plain": [
       "      Armeria    Colima   Comala  Coquimatlan  Cuauhtemoc  Ixtlahuacan  \\\n",
       "1995  28015.0  120781.0  17601.0      16939.0     25462.0       4989.0   \n",
       "2000  28574.0  129958.0  19384.0      18756.0     26771.0       5478.0   \n",
       "2005  24939.0  132273.0  19495.0      17363.0     25576.0       4759.0   \n",
       "2010  28695.0  146904.0  20888.0      19385.0     27107.0       5300.0   \n",
       "2020  27626.0  157048.0  21661.0      20837.0     31267.0       5623.0   \n",
       "\n",
       "      Manzanillo  Minatitlán   Tecoman  Villa de Álvarez  \n",
       "1995    108584.0      8321.0   91036.0           66300.0  \n",
       "2000    125143.0      8466.0   99289.0           80808.0  \n",
       "2005    137842.0      7478.0   98150.0          100121.0  \n",
       "2010    161420.0      8174.0  112726.0          119956.0  \n",
       "2020    191031.0     10231.0  116305.0          149762.0  "
      ]
     },
     "execution_count": 179,
     "metadata": {},
     "output_type": "execute_result"
    }
   ],
   "source": [
    "df_pob_ent"
   ]
  },
  {
   "cell_type": "markdown",
   "id": "34af4229",
   "metadata": {},
   "source": [
    "### Población total sin limitación en la actividad"
   ]
  },
  {
   "cell_type": "code",
   "execution_count": 183,
   "id": "e4371420",
   "metadata": {},
   "outputs": [],
   "source": [
    "df_disc = pd.DataFrame()\n",
    "for i in muni:\n",
    "    url = f\"https://www.inegi.org.mx/app/api/indicadores/desarrolladores/jsonxml/INDICATOR/6200205253/es/0700000600{i}/false/BISE/2.0/{token}?type=json\"\n",
    "    response = requests.get(url)\n",
    "    data = response.json()\n",
    "    series = data['Series'][0]['OBSERVATIONS']\n",
    "    df = pd.DataFrame(series,index=['1995'])[['OBS_VALUE']]\n",
    "    df['OBS_VALUE'] = pd.to_numeric(df['OBS_VALUE'])\n",
    "    df_disc = pd.concat([df_disc,df],axis=1)\n",
    "df_disc.columns=muni_name"
   ]
  },
  {
   "cell_type": "code",
   "execution_count": 184,
   "id": "869a720a",
   "metadata": {},
   "outputs": [
    {
     "data": {
      "text/html": [
       "<div>\n",
       "<style scoped>\n",
       "    .dataframe tbody tr th:only-of-type {\n",
       "        vertical-align: middle;\n",
       "    }\n",
       "\n",
       "    .dataframe tbody tr th {\n",
       "        vertical-align: top;\n",
       "    }\n",
       "\n",
       "    .dataframe thead th {\n",
       "        text-align: right;\n",
       "    }\n",
       "</style>\n",
       "<table border=\"1\" class=\"dataframe\">\n",
       "  <thead>\n",
       "    <tr style=\"text-align: right;\">\n",
       "      <th></th>\n",
       "      <th>Armeria</th>\n",
       "      <th>Colima</th>\n",
       "      <th>Comala</th>\n",
       "      <th>Coquimatlan</th>\n",
       "      <th>Cuauhtemoc</th>\n",
       "      <th>Ixtlahuacan</th>\n",
       "      <th>Manzanillo</th>\n",
       "      <th>Minatitlán</th>\n",
       "      <th>Tecoman</th>\n",
       "      <th>Villa de Álvarez</th>\n",
       "    </tr>\n",
       "  </thead>\n",
       "  <tbody>\n",
       "    <tr>\n",
       "      <th>1995</th>\n",
       "      <td>21953.0</td>\n",
       "      <td>126171.0</td>\n",
       "      <td>16588.0</td>\n",
       "      <td>16086.0</td>\n",
       "      <td>24876.0</td>\n",
       "      <td>4396.0</td>\n",
       "      <td>159649.0</td>\n",
       "      <td>8635.0</td>\n",
       "      <td>94534.0</td>\n",
       "      <td>124726.0</td>\n",
       "    </tr>\n",
       "  </tbody>\n",
       "</table>\n",
       "</div>"
      ],
      "text/plain": [
       "      Armeria    Colima   Comala  Coquimatlan  Cuauhtemoc  Ixtlahuacan  \\\n",
       "1995  21953.0  126171.0  16588.0      16086.0     24876.0       4396.0   \n",
       "\n",
       "      Manzanillo  Minatitlán  Tecoman  Villa de Álvarez  \n",
       "1995    159649.0      8635.0  94534.0          124726.0  "
      ]
     },
     "execution_count": 184,
     "metadata": {},
     "output_type": "execute_result"
    }
   ],
   "source": [
    "df_disc"
   ]
  },
  {
   "cell_type": "markdown",
   "id": "3e53c87b",
   "metadata": {},
   "source": [
    "### Porcentaje de personas de 15 años y más alfabetas"
   ]
  },
  {
   "cell_type": "code",
   "execution_count": 185,
   "id": "39b1cfec",
   "metadata": {},
   "outputs": [],
   "source": [
    "df_alfa = pd.DataFrame()\n",
    "for i in muni:\n",
    "    url = f\"https://www.inegi.org.mx/app/api/indicadores/desarrolladores/jsonxml/INDICATOR/1002000041/es/0700000600{i}/false/BISE/2.0/{token}?type=json\"\n",
    "    response = requests.get(url)\n",
    "    data = response.json()\n",
    "    series = data['Series'][0]['OBSERVATIONS']\n",
    "    df = pd.DataFrame(series,index=['2000','2010','2015','2020'])[['OBS_VALUE']]\n",
    "    df['OBS_VALUE'] = pd.to_numeric(df['OBS_VALUE'])\n",
    "    df_alfa = pd.concat([df_alfa,df],axis=1,ignore_index=False)\n",
    "df_alfa.columns=muni_name"
   ]
  },
  {
   "cell_type": "code",
   "execution_count": 186,
   "id": "42cbceb2",
   "metadata": {},
   "outputs": [
    {
     "data": {
      "text/html": [
       "<div>\n",
       "<style scoped>\n",
       "    .dataframe tbody tr th:only-of-type {\n",
       "        vertical-align: middle;\n",
       "    }\n",
       "\n",
       "    .dataframe tbody tr th {\n",
       "        vertical-align: top;\n",
       "    }\n",
       "\n",
       "    .dataframe thead th {\n",
       "        text-align: right;\n",
       "    }\n",
       "</style>\n",
       "<table border=\"1\" class=\"dataframe\">\n",
       "  <thead>\n",
       "    <tr style=\"text-align: right;\">\n",
       "      <th></th>\n",
       "      <th>Armeria</th>\n",
       "      <th>Colima</th>\n",
       "      <th>Comala</th>\n",
       "      <th>Coquimatlan</th>\n",
       "      <th>Cuauhtemoc</th>\n",
       "      <th>Ixtlahuacan</th>\n",
       "      <th>Manzanillo</th>\n",
       "      <th>Minatitlán</th>\n",
       "      <th>Tecoman</th>\n",
       "      <th>Villa de Álvarez</th>\n",
       "    </tr>\n",
       "  </thead>\n",
       "  <tbody>\n",
       "    <tr>\n",
       "      <th>2000</th>\n",
       "      <td>87.074990</td>\n",
       "      <td>95.394722</td>\n",
       "      <td>92.791753</td>\n",
       "      <td>89.419825</td>\n",
       "      <td>93.298701</td>\n",
       "      <td>86.975150</td>\n",
       "      <td>93.870163</td>\n",
       "      <td>89.397880</td>\n",
       "      <td>87.028387</td>\n",
       "      <td>96.525901</td>\n",
       "    </tr>\n",
       "    <tr>\n",
       "      <th>2010</th>\n",
       "      <td>89.150000</td>\n",
       "      <td>96.190000</td>\n",
       "      <td>94.530000</td>\n",
       "      <td>91.400000</td>\n",
       "      <td>94.340000</td>\n",
       "      <td>88.080000</td>\n",
       "      <td>94.960000</td>\n",
       "      <td>92.300000</td>\n",
       "      <td>89.490000</td>\n",
       "      <td>97.550000</td>\n",
       "    </tr>\n",
       "    <tr>\n",
       "      <th>2015</th>\n",
       "      <td>91.013584</td>\n",
       "      <td>96.884859</td>\n",
       "      <td>95.726172</td>\n",
       "      <td>93.740746</td>\n",
       "      <td>96.212560</td>\n",
       "      <td>89.002433</td>\n",
       "      <td>96.200263</td>\n",
       "      <td>93.308376</td>\n",
       "      <td>91.777596</td>\n",
       "      <td>97.940955</td>\n",
       "    </tr>\n",
       "    <tr>\n",
       "      <th>2020</th>\n",
       "      <td>92.798475</td>\n",
       "      <td>97.477289</td>\n",
       "      <td>96.710249</td>\n",
       "      <td>94.053059</td>\n",
       "      <td>96.086235</td>\n",
       "      <td>92.853860</td>\n",
       "      <td>97.365899</td>\n",
       "      <td>94.750513</td>\n",
       "      <td>92.539793</td>\n",
       "      <td>98.565932</td>\n",
       "    </tr>\n",
       "  </tbody>\n",
       "</table>\n",
       "</div>"
      ],
      "text/plain": [
       "        Armeria     Colima     Comala  Coquimatlan  Cuauhtemoc  Ixtlahuacan  \\\n",
       "2000  87.074990  95.394722  92.791753    89.419825   93.298701    86.975150   \n",
       "2010  89.150000  96.190000  94.530000    91.400000   94.340000    88.080000   \n",
       "2015  91.013584  96.884859  95.726172    93.740746   96.212560    89.002433   \n",
       "2020  92.798475  97.477289  96.710249    94.053059   96.086235    92.853860   \n",
       "\n",
       "      Manzanillo  Minatitlán    Tecoman  Villa de Álvarez  \n",
       "2000   93.870163   89.397880  87.028387         96.525901  \n",
       "2010   94.960000   92.300000  89.490000         97.550000  \n",
       "2015   96.200263   93.308376  91.777596         97.940955  \n",
       "2020   97.365899   94.750513  92.539793         98.565932  "
      ]
     },
     "execution_count": 186,
     "metadata": {},
     "output_type": "execute_result"
    }
   ],
   "source": [
    "df_alfa"
   ]
  },
  {
   "cell_type": "code",
   "execution_count": 199,
   "id": "ba71da59",
   "metadata": {},
   "outputs": [],
   "source": [
    "df.to_csv('df.csv')\n",
    "df_pob_ent.to_csv('df_pob_ent.csv')\n",
    "df_disc.to_csv('df_disc.csv')\n",
    "df_alfa.to_csv('df_alfa.csv')"
   ]
  },
  {
   "cell_type": "code",
   "execution_count": null,
   "id": "afbbd658",
   "metadata": {},
   "outputs": [],
   "source": []
  }
 ],
 "metadata": {
  "kernelspec": {
   "display_name": "Python 3 (ipykernel)",
   "language": "python",
   "name": "python3"
  },
  "language_info": {
   "codemirror_mode": {
    "name": "ipython",
    "version": 3
   },
   "file_extension": ".py",
   "mimetype": "text/x-python",
   "name": "python",
   "nbconvert_exporter": "python",
   "pygments_lexer": "ipython3",
   "version": "3.11.5"
  }
 },
 "nbformat": 4,
 "nbformat_minor": 5
}
